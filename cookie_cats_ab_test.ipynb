{
 "cells": [
  {
   "cell_type": "markdown",
   "id": "41ea709c",
   "metadata": {},
   "source": [
    "# Анализ А/Б теста мобильного приложения Cookie Cats\n",
    "\n",
    "Данные с сайта kaggle.com - https://www.kaggle.com/datasets/mursideyarkin/mobile-games-ab-testing-cookie-cats\n",
    "\n",
    "**About Dataset:**\n",
    "\n",
    "`Context: ` This dataset includes A/B test results of Cookie Cats to examine what happens when the first gate in the game was moved from level 30 to level 40. When a player installed the game, he or she was randomly assigned to either gate_30 or gate_40.\n",
    "\n",
    "`Content: `The data we have is from 90,189 players that installed the game while the AB-test was running. The variables are:\n",
    "\n",
    "- `userid`: A unique number that identifies each player.\n",
    "- `version`: Whether the player was put in the control group (gate_30 - a gate at level 30) or the group with the moved gate (gate_40 - a gate at level 40).\n",
    "- `sum_gamerounds`: the number of game rounds played by the player during the first 14 days after install.\n",
    "- `retention_1`: Did the player come back and play 1 day after installing?\n",
    "- `retention_7`: Did the player come back and play 7 days after installing?\n",
    "\n",
    "When a player installed the game, he or she was randomly assigned to either."
   ]
  },
  {
   "cell_type": "code",
   "execution_count": 33,
   "id": "f4b124c7",
   "metadata": {},
   "outputs": [],
   "source": [
    "import pandas as pd\n",
    "import matplotlib.pyplot as plt\n",
    "import seaborn as sns \n",
    "import numpy as np\n",
    "import warnings\n",
    "warnings.filterwarnings('ignore')\n",
    "from scipy import stats as st \n",
    "from statsmodels.stats.proportion import proportions_ztest"
   ]
  },
  {
   "cell_type": "markdown",
   "id": "2413bdbe",
   "metadata": {},
   "source": [
    "## Загрузка данных, предобработка таблицы и знакомство с данными. "
   ]
  },
  {
   "cell_type": "code",
   "execution_count": 2,
   "id": "a72e4679",
   "metadata": {},
   "outputs": [],
   "source": [
    "df = pd.read_csv('C:\\\\datasets\\\\cookie_cats.csv')"
   ]
  },
  {
   "cell_type": "code",
   "execution_count": 3,
   "id": "7f62f606",
   "metadata": {},
   "outputs": [
    {
     "data": {
      "text/html": [
       "<div>\n",
       "<style scoped>\n",
       "    .dataframe tbody tr th:only-of-type {\n",
       "        vertical-align: middle;\n",
       "    }\n",
       "\n",
       "    .dataframe tbody tr th {\n",
       "        vertical-align: top;\n",
       "    }\n",
       "\n",
       "    .dataframe thead th {\n",
       "        text-align: right;\n",
       "    }\n",
       "</style>\n",
       "<table border=\"1\" class=\"dataframe\">\n",
       "  <thead>\n",
       "    <tr style=\"text-align: right;\">\n",
       "      <th></th>\n",
       "      <th>userid</th>\n",
       "      <th>version</th>\n",
       "      <th>sum_gamerounds</th>\n",
       "      <th>retention_1</th>\n",
       "      <th>retention_7</th>\n",
       "    </tr>\n",
       "  </thead>\n",
       "  <tbody>\n",
       "    <tr>\n",
       "      <th>0</th>\n",
       "      <td>116</td>\n",
       "      <td>gate_30</td>\n",
       "      <td>3</td>\n",
       "      <td>False</td>\n",
       "      <td>False</td>\n",
       "    </tr>\n",
       "    <tr>\n",
       "      <th>1</th>\n",
       "      <td>337</td>\n",
       "      <td>gate_30</td>\n",
       "      <td>38</td>\n",
       "      <td>True</td>\n",
       "      <td>False</td>\n",
       "    </tr>\n",
       "    <tr>\n",
       "      <th>2</th>\n",
       "      <td>377</td>\n",
       "      <td>gate_40</td>\n",
       "      <td>165</td>\n",
       "      <td>True</td>\n",
       "      <td>False</td>\n",
       "    </tr>\n",
       "    <tr>\n",
       "      <th>3</th>\n",
       "      <td>483</td>\n",
       "      <td>gate_40</td>\n",
       "      <td>1</td>\n",
       "      <td>False</td>\n",
       "      <td>False</td>\n",
       "    </tr>\n",
       "    <tr>\n",
       "      <th>4</th>\n",
       "      <td>488</td>\n",
       "      <td>gate_40</td>\n",
       "      <td>179</td>\n",
       "      <td>True</td>\n",
       "      <td>True</td>\n",
       "    </tr>\n",
       "  </tbody>\n",
       "</table>\n",
       "</div>"
      ],
      "text/plain": [
       "   userid  version  sum_gamerounds  retention_1  retention_7\n",
       "0     116  gate_30               3        False        False\n",
       "1     337  gate_30              38         True        False\n",
       "2     377  gate_40             165         True        False\n",
       "3     483  gate_40               1        False        False\n",
       "4     488  gate_40             179         True         True"
      ]
     },
     "execution_count": 3,
     "metadata": {},
     "output_type": "execute_result"
    }
   ],
   "source": [
    "df.head()"
   ]
  },
  {
   "cell_type": "code",
   "execution_count": 4,
   "id": "3c483f43",
   "metadata": {},
   "outputs": [
    {
     "data": {
      "text/plain": [
       "(90189, 5)"
      ]
     },
     "execution_count": 4,
     "metadata": {},
     "output_type": "execute_result"
    }
   ],
   "source": [
    "df.shape"
   ]
  },
  {
   "cell_type": "code",
   "execution_count": 5,
   "id": "7ad21e9e",
   "metadata": {},
   "outputs": [
    {
     "name": "stdout",
     "output_type": "stream",
     "text": [
      "<class 'pandas.core.frame.DataFrame'>\n",
      "RangeIndex: 90189 entries, 0 to 90188\n",
      "Data columns (total 5 columns):\n",
      " #   Column          Non-Null Count  Dtype \n",
      "---  ------          --------------  ----- \n",
      " 0   userid          90189 non-null  int64 \n",
      " 1   version         90189 non-null  object\n",
      " 2   sum_gamerounds  90189 non-null  int64 \n",
      " 3   retention_1     90189 non-null  bool  \n",
      " 4   retention_7     90189 non-null  bool  \n",
      "dtypes: bool(2), int64(2), object(1)\n",
      "memory usage: 2.2+ MB\n"
     ]
    }
   ],
   "source": [
    "df.info()"
   ]
  },
  {
   "cell_type": "code",
   "execution_count": 6,
   "id": "6323a9f5",
   "metadata": {},
   "outputs": [
    {
     "data": {
      "text/html": [
       "<div>\n",
       "<style scoped>\n",
       "    .dataframe tbody tr th:only-of-type {\n",
       "        vertical-align: middle;\n",
       "    }\n",
       "\n",
       "    .dataframe tbody tr th {\n",
       "        vertical-align: top;\n",
       "    }\n",
       "\n",
       "    .dataframe thead th {\n",
       "        text-align: right;\n",
       "    }\n",
       "</style>\n",
       "<table border=\"1\" class=\"dataframe\">\n",
       "  <thead>\n",
       "    <tr style=\"text-align: right;\">\n",
       "      <th></th>\n",
       "      <th>count</th>\n",
       "      <th>mean</th>\n",
       "      <th>std</th>\n",
       "      <th>min</th>\n",
       "      <th>25%</th>\n",
       "      <th>50%</th>\n",
       "      <th>75%</th>\n",
       "      <th>max</th>\n",
       "    </tr>\n",
       "  </thead>\n",
       "  <tbody>\n",
       "    <tr>\n",
       "      <th>userid</th>\n",
       "      <td>90189.0</td>\n",
       "      <td>4.998412e+06</td>\n",
       "      <td>2.883286e+06</td>\n",
       "      <td>116.0</td>\n",
       "      <td>2512230.0</td>\n",
       "      <td>4995815.0</td>\n",
       "      <td>7496452.0</td>\n",
       "      <td>9999861.0</td>\n",
       "    </tr>\n",
       "    <tr>\n",
       "      <th>sum_gamerounds</th>\n",
       "      <td>90189.0</td>\n",
       "      <td>5.187246e+01</td>\n",
       "      <td>1.950509e+02</td>\n",
       "      <td>0.0</td>\n",
       "      <td>5.0</td>\n",
       "      <td>16.0</td>\n",
       "      <td>51.0</td>\n",
       "      <td>49854.0</td>\n",
       "    </tr>\n",
       "  </tbody>\n",
       "</table>\n",
       "</div>"
      ],
      "text/plain": [
       "                  count          mean           std    min        25%  \\\n",
       "userid          90189.0  4.998412e+06  2.883286e+06  116.0  2512230.0   \n",
       "sum_gamerounds  90189.0  5.187246e+01  1.950509e+02    0.0        5.0   \n",
       "\n",
       "                      50%        75%        max  \n",
       "userid          4995815.0  7496452.0  9999861.0  \n",
       "sum_gamerounds       16.0       51.0    49854.0  "
      ]
     },
     "execution_count": 6,
     "metadata": {},
     "output_type": "execute_result"
    }
   ],
   "source": [
    "df.describe().T"
   ]
  },
  {
   "cell_type": "code",
   "execution_count": 7,
   "id": "68f7a2ce",
   "metadata": {},
   "outputs": [
    {
     "data": {
      "text/plain": [
       "90189"
      ]
     },
     "execution_count": 7,
     "metadata": {},
     "output_type": "execute_result"
    }
   ],
   "source": [
    "df.userid.nunique()"
   ]
  },
  {
   "cell_type": "markdown",
   "id": "61e7ef2a",
   "metadata": {},
   "source": [
    "Итак, в нашей таблице находится информация о 90189 игроках. \n",
    "\n",
    "Всего столбцов 5:\n",
    "- `userid` - айди пользователя\n",
    "- `version` - контрольная группа\n",
    "- `sum_gamerounds` - количество пройденных игровых раундов спустя 14 дней после установки игры \n",
    "- `retention_1` - удержание на первый день\n",
    "- `retention_7` - удержание на седьмой день\n",
    "\n",
    "Типы данных корректы.\n",
    "\n",
    "Немного изменим названия столбцов для удобства. "
   ]
  },
  {
   "cell_type": "code",
   "execution_count": 8,
   "id": "64b52f00",
   "metadata": {},
   "outputs": [],
   "source": [
    "df = df.rename(columns={'userid':'user_id', 'version':'group','sum_gamerounds':'game_rounds'})"
   ]
  },
  {
   "cell_type": "code",
   "execution_count": 9,
   "id": "75d357f7",
   "metadata": {},
   "outputs": [
    {
     "data": {
      "text/plain": [
       "gate_40    45489\n",
       "gate_30    44700\n",
       "Name: group, dtype: int64"
      ]
     },
     "execution_count": 9,
     "metadata": {},
     "output_type": "execute_result"
    }
   ],
   "source": [
    "df.group.value_counts()"
   ]
  },
  {
   "cell_type": "code",
   "execution_count": 10,
   "id": "4a574c55",
   "metadata": {},
   "outputs": [],
   "source": [
    "df.group = df.group.str.replace('gate_30', 'A')\n",
    "df.group = df.group.str.replace('gate_40', 'B')"
   ]
  },
  {
   "cell_type": "code",
   "execution_count": 11,
   "id": "993ead4b",
   "metadata": {},
   "outputs": [
    {
     "data": {
      "text/html": [
       "<div>\n",
       "<style scoped>\n",
       "    .dataframe tbody tr th:only-of-type {\n",
       "        vertical-align: middle;\n",
       "    }\n",
       "\n",
       "    .dataframe tbody tr th {\n",
       "        vertical-align: top;\n",
       "    }\n",
       "\n",
       "    .dataframe thead th {\n",
       "        text-align: right;\n",
       "    }\n",
       "</style>\n",
       "<table border=\"1\" class=\"dataframe\">\n",
       "  <thead>\n",
       "    <tr style=\"text-align: right;\">\n",
       "      <th></th>\n",
       "      <th>user_id</th>\n",
       "      <th>group</th>\n",
       "      <th>game_rounds</th>\n",
       "      <th>retention_1</th>\n",
       "      <th>retention_7</th>\n",
       "    </tr>\n",
       "  </thead>\n",
       "  <tbody>\n",
       "    <tr>\n",
       "      <th>0</th>\n",
       "      <td>116</td>\n",
       "      <td>A</td>\n",
       "      <td>3</td>\n",
       "      <td>False</td>\n",
       "      <td>False</td>\n",
       "    </tr>\n",
       "    <tr>\n",
       "      <th>1</th>\n",
       "      <td>337</td>\n",
       "      <td>A</td>\n",
       "      <td>38</td>\n",
       "      <td>True</td>\n",
       "      <td>False</td>\n",
       "    </tr>\n",
       "    <tr>\n",
       "      <th>2</th>\n",
       "      <td>377</td>\n",
       "      <td>B</td>\n",
       "      <td>165</td>\n",
       "      <td>True</td>\n",
       "      <td>False</td>\n",
       "    </tr>\n",
       "    <tr>\n",
       "      <th>3</th>\n",
       "      <td>483</td>\n",
       "      <td>B</td>\n",
       "      <td>1</td>\n",
       "      <td>False</td>\n",
       "      <td>False</td>\n",
       "    </tr>\n",
       "    <tr>\n",
       "      <th>4</th>\n",
       "      <td>488</td>\n",
       "      <td>B</td>\n",
       "      <td>179</td>\n",
       "      <td>True</td>\n",
       "      <td>True</td>\n",
       "    </tr>\n",
       "  </tbody>\n",
       "</table>\n",
       "</div>"
      ],
      "text/plain": [
       "   user_id group  game_rounds  retention_1  retention_7\n",
       "0      116     A            3        False        False\n",
       "1      337     A           38         True        False\n",
       "2      377     B          165         True        False\n",
       "3      483     B            1        False        False\n",
       "4      488     B          179         True         True"
      ]
     },
     "execution_count": 11,
     "metadata": {},
     "output_type": "execute_result"
    }
   ],
   "source": [
    "df.head()"
   ]
  },
  {
   "cell_type": "code",
   "execution_count": 59,
   "id": "8b53128d",
   "metadata": {},
   "outputs": [
    {
     "data": {
      "text/plain": [
       "user_id        0\n",
       "group          0\n",
       "game_rounds    0\n",
       "retention_1    0\n",
       "retention_7    0\n",
       "dtype: int64"
      ]
     },
     "execution_count": 59,
     "metadata": {},
     "output_type": "execute_result"
    }
   ],
   "source": [
    "df.isna().sum()"
   ]
  },
  {
   "cell_type": "code",
   "execution_count": 60,
   "id": "b9e45591",
   "metadata": {},
   "outputs": [
    {
     "data": {
      "text/plain": [
       "0"
      ]
     },
     "execution_count": 60,
     "metadata": {},
     "output_type": "execute_result"
    }
   ],
   "source": [
    "df.duplicated().sum()"
   ]
  },
  {
   "cell_type": "markdown",
   "id": "639a5639",
   "metadata": {},
   "source": [
    "Приступим к исследованию. "
   ]
  },
  {
   "cell_type": "code",
   "execution_count": 12,
   "id": "047472ac",
   "metadata": {},
   "outputs": [
    {
     "data": {
      "text/html": [
       "<div>\n",
       "<style scoped>\n",
       "    .dataframe tbody tr th:only-of-type {\n",
       "        vertical-align: middle;\n",
       "    }\n",
       "\n",
       "    .dataframe tbody tr th {\n",
       "        vertical-align: top;\n",
       "    }\n",
       "\n",
       "    .dataframe thead th {\n",
       "        text-align: right;\n",
       "    }\n",
       "</style>\n",
       "<table border=\"1\" class=\"dataframe\">\n",
       "  <thead>\n",
       "    <tr style=\"text-align: right;\">\n",
       "      <th></th>\n",
       "      <th>sum</th>\n",
       "      <th>mean</th>\n",
       "      <th>median</th>\n",
       "      <th>max</th>\n",
       "      <th>std</th>\n",
       "    </tr>\n",
       "    <tr>\n",
       "      <th>group</th>\n",
       "      <th></th>\n",
       "      <th></th>\n",
       "      <th></th>\n",
       "      <th></th>\n",
       "      <th></th>\n",
       "    </tr>\n",
       "  </thead>\n",
       "  <tbody>\n",
       "    <tr>\n",
       "      <th>A</th>\n",
       "      <td>2344795</td>\n",
       "      <td>52.456264</td>\n",
       "      <td>17.0</td>\n",
       "      <td>49854</td>\n",
       "      <td>256.716423</td>\n",
       "    </tr>\n",
       "    <tr>\n",
       "      <th>B</th>\n",
       "      <td>2333530</td>\n",
       "      <td>51.298776</td>\n",
       "      <td>16.0</td>\n",
       "      <td>2640</td>\n",
       "      <td>103.294416</td>\n",
       "    </tr>\n",
       "  </tbody>\n",
       "</table>\n",
       "</div>"
      ],
      "text/plain": [
       "           sum       mean  median    max         std\n",
       "group                                               \n",
       "A      2344795  52.456264    17.0  49854  256.716423\n",
       "B      2333530  51.298776    16.0   2640  103.294416"
      ]
     },
     "execution_count": 12,
     "metadata": {},
     "output_type": "execute_result"
    }
   ],
   "source": [
    "df.groupby('group')['game_rounds'].agg(['sum', 'mean', 'median', 'max', 'std'])"
   ]
  },
  {
   "cell_type": "code",
   "execution_count": 13,
   "id": "97bb8ed4",
   "metadata": {},
   "outputs": [
    {
     "data": {
      "text/plain": [
       "count    90189.000000\n",
       "mean        51.872457\n",
       "std        195.050858\n",
       "min          0.000000\n",
       "25%          5.000000\n",
       "50%         16.000000\n",
       "75%         51.000000\n",
       "max      49854.000000\n",
       "Name: game_rounds, dtype: float64"
      ]
     },
     "execution_count": 13,
     "metadata": {},
     "output_type": "execute_result"
    }
   ],
   "source": [
    "df.game_rounds.describe()"
   ]
  },
  {
   "cell_type": "code",
   "execution_count": 14,
   "id": "cf6a8254",
   "metadata": {
    "scrolled": true
   },
   "outputs": [
    {
     "data": {
      "text/html": [
       "<div>\n",
       "<style scoped>\n",
       "    .dataframe tbody tr th:only-of-type {\n",
       "        vertical-align: middle;\n",
       "    }\n",
       "\n",
       "    .dataframe tbody tr th {\n",
       "        vertical-align: top;\n",
       "    }\n",
       "\n",
       "    .dataframe thead th {\n",
       "        text-align: right;\n",
       "    }\n",
       "</style>\n",
       "<table border=\"1\" class=\"dataframe\">\n",
       "  <thead>\n",
       "    <tr style=\"text-align: right;\">\n",
       "      <th></th>\n",
       "      <th>user_id</th>\n",
       "      <th>group</th>\n",
       "      <th>game_rounds</th>\n",
       "      <th>retention_1</th>\n",
       "      <th>retention_7</th>\n",
       "    </tr>\n",
       "  </thead>\n",
       "  <tbody>\n",
       "    <tr>\n",
       "      <th>57702</th>\n",
       "      <td>6390605</td>\n",
       "      <td>A</td>\n",
       "      <td>49854</td>\n",
       "      <td>False</td>\n",
       "      <td>True</td>\n",
       "    </tr>\n",
       "  </tbody>\n",
       "</table>\n",
       "</div>"
      ],
      "text/plain": [
       "       user_id group  game_rounds  retention_1  retention_7\n",
       "57702  6390605     A        49854        False         True"
      ]
     },
     "execution_count": 14,
     "metadata": {},
     "output_type": "execute_result"
    }
   ],
   "source": [
    "df.loc[df.game_rounds == 49854]"
   ]
  },
  {
   "cell_type": "code",
   "execution_count": 15,
   "id": "7d99b283",
   "metadata": {},
   "outputs": [],
   "source": [
    "df = df.drop(index=57702)"
   ]
  },
  {
   "cell_type": "code",
   "execution_count": 16,
   "id": "abb24675",
   "metadata": {},
   "outputs": [
    {
     "data": {
      "text/html": [
       "<div>\n",
       "<style scoped>\n",
       "    .dataframe tbody tr th:only-of-type {\n",
       "        vertical-align: middle;\n",
       "    }\n",
       "\n",
       "    .dataframe tbody tr th {\n",
       "        vertical-align: top;\n",
       "    }\n",
       "\n",
       "    .dataframe thead th {\n",
       "        text-align: right;\n",
       "    }\n",
       "</style>\n",
       "<table border=\"1\" class=\"dataframe\">\n",
       "  <thead>\n",
       "    <tr style=\"text-align: right;\">\n",
       "      <th></th>\n",
       "      <th>sum</th>\n",
       "      <th>mean</th>\n",
       "      <th>median</th>\n",
       "      <th>max</th>\n",
       "      <th>std</th>\n",
       "    </tr>\n",
       "    <tr>\n",
       "      <th>group</th>\n",
       "      <th></th>\n",
       "      <th></th>\n",
       "      <th></th>\n",
       "      <th></th>\n",
       "      <th></th>\n",
       "    </tr>\n",
       "  </thead>\n",
       "  <tbody>\n",
       "    <tr>\n",
       "      <th>A</th>\n",
       "      <td>2294941</td>\n",
       "      <td>51.342111</td>\n",
       "      <td>17.0</td>\n",
       "      <td>2961</td>\n",
       "      <td>102.057598</td>\n",
       "    </tr>\n",
       "    <tr>\n",
       "      <th>B</th>\n",
       "      <td>2333530</td>\n",
       "      <td>51.298776</td>\n",
       "      <td>16.0</td>\n",
       "      <td>2640</td>\n",
       "      <td>103.294416</td>\n",
       "    </tr>\n",
       "  </tbody>\n",
       "</table>\n",
       "</div>"
      ],
      "text/plain": [
       "           sum       mean  median   max         std\n",
       "group                                              \n",
       "A      2294941  51.342111    17.0  2961  102.057598\n",
       "B      2333530  51.298776    16.0  2640  103.294416"
      ]
     },
     "execution_count": 16,
     "metadata": {},
     "output_type": "execute_result"
    }
   ],
   "source": [
    "df.groupby('group')['game_rounds'].agg(['sum', 'mean', 'median', 'max', 'std'])"
   ]
  },
  {
   "cell_type": "markdown",
   "id": "3fc0744f",
   "metadata": {},
   "source": [
    "По пройденным раундов все достаточно ровно. "
   ]
  },
  {
   "cell_type": "markdown",
   "id": "680522b9",
   "metadata": {},
   "source": [
    "Подробнее взглянем на показатели удержания."
   ]
  },
  {
   "cell_type": "code",
   "execution_count": 17,
   "id": "eccbee92",
   "metadata": {},
   "outputs": [],
   "source": [
    "group_a = df.query('group ==\"A\"')\n",
    "group_b = df.query('group ==\"B\"')"
   ]
  },
  {
   "cell_type": "code",
   "execution_count": 18,
   "id": "8b3447ad",
   "metadata": {},
   "outputs": [
    {
     "data": {
      "image/png": "[encoded data removed]",
      "text/plain": [
       "<Figure size 640x480 with 1 Axes>"
      ]
     },
     "metadata": {},
     "output_type": "display_data"
    },
    {
     "data": {
      "image/png": "[encoded data removed]",
      "text/plain": [
       "<Figure size 640x480 with 1 Axes>"
      ]
     },
     "metadata": {},
     "output_type": "display_data"
    }
   ],
   "source": [
    "sns.countplot(x=group_a.retention_1, palette='bright')\n",
    "plt.title('Удержание пользователей контрольной группы А на первый день после установки приложения', size=10)\n",
    "plt.show();\n",
    "\n",
    "sns.countplot(x=group_a.retention_7, palette='bright')\n",
    "plt.title('Удержание пользователей контрольной группы А на седьмой день после установки приложения', size=10)\n",
    "plt.show();"
   ]
  },
  {
   "cell_type": "code",
   "execution_count": 19,
   "id": "a4c0175d",
   "metadata": {},
   "outputs": [
    {
     "data": {
      "image/png": "[encoded data removed]",
      "text/plain": [
       "<Figure size 640x480 with 1 Axes>"
      ]
     },
     "metadata": {},
     "output_type": "display_data"
    },
    {
     "data": {
      "image/png": "[encoded data removed]",
      "text/plain": [
       "<Figure size 640x480 with 1 Axes>"
      ]
     },
     "metadata": {},
     "output_type": "display_data"
    }
   ],
   "source": [
    "sns.countplot(x=group_b.retention_1, palette='bright')\n",
    "plt.title('Удержание пользователей контрольной группы Б на первый день после установки приложения', size=10)\n",
    "plt.show();\n",
    "\n",
    "sns.countplot(x=group_b.retention_7, palette='bright')\n",
    "plt.title('Удержание пользователей контрольной группы Б на седьмой день после установки приложения', size=10)\n",
    "plt.show();"
   ]
  },
  {
   "cell_type": "markdown",
   "id": "e93c418d",
   "metadata": {},
   "source": [
    "Результаты обеих групп на первый взгляд практически идентичны. "
   ]
  },
  {
   "cell_type": "markdown",
   "id": "ee885c88",
   "metadata": {},
   "source": [
    "## Анализ результатов А/Б тестирования. "
   ]
  },
  {
   "cell_type": "markdown",
   "id": "651d7f9e",
   "metadata": {},
   "source": [
    "Сформулируем гипотезы о различии пройденных игровых раундов после введенных в игру изменений.\n",
    "\n",
    "- Нулевая гипотеза: количество пройденных раундов одинаково\n",
    "- Альтернативная: количество пройденных раундов различается "
   ]
  },
  {
   "cell_type": "code",
   "execution_count": 20,
   "id": "3c97587a",
   "metadata": {},
   "outputs": [
    {
     "name": "stdout",
     "output_type": "stream",
     "text": [
      "p-value: 0.9494686215464458\n",
      "Нет оснований отвергнуть нулевую гипотезу\n"
     ]
    }
   ],
   "source": [
    "#задаем уровень значимости\n",
    "alpha = .05\n",
    "\n",
    "results = st.ttest_ind(group_a.game_rounds, group_b.game_rounds, equal_var=False)\n",
    "\n",
    "print('p-value:', results.pvalue)\n",
    "\n",
    "if results.pvalue < alpha:\n",
    "    print('Отвергаем нулевую гипотезу')\n",
    "else:\n",
    "    print('Нет оснований отвергнуть нулевую гипотезу')"
   ]
  },
  {
   "cell_type": "markdown",
   "id": "71eaa785",
   "metadata": {},
   "source": [
    "Проверим насколько разница между группами в показателе удержания статистически значима c помощью пропорционного Z-теста. "
   ]
  },
  {
   "cell_type": "code",
   "execution_count": 22,
   "id": "cc44aaf6",
   "metadata": {},
   "outputs": [],
   "source": [
    "group_a.retention_1 = group_a.retention_1.map({True:1, False: 0})\n",
    "group_a.retention_7 = group_a.retention_7.map({True:1, False: 0})\n",
    "\n",
    "group_b.retention_1 = group_b.retention_1.map({True:1, False: 0})\n",
    "group_b.retention_7 = group_b.retention_7.map({True:1, False: 0})"
   ]
  },
  {
   "cell_type": "code",
   "execution_count": 42,
   "id": "d944a1a5",
   "metadata": {},
   "outputs": [],
   "source": [
    "count_a_true = group_a[group_a['retention_1'] == 1].shape[0]\n",
    "count_b_true = group_b[group_b['retention_1'] == 1].shape[0]\n",
    "count_a_true7 = group_a[group_a['retention_7'] == 1].shape[0]\n",
    "count_b_true7 = group_b[group_b['retention_7'] == 1].shape[0]\n",
    "\n",
    "count_a = group_a.shape[0]\n",
    "count_b = group_b.shape[0]"
   ]
  },
  {
   "cell_type": "markdown",
   "id": "786a8072",
   "metadata": {},
   "source": [
    "Сформулируем гипотезы:\n",
    "- Нулевая: удержание обеих групп одинаково\n",
    "- Альтернативная: есть различия в удержании"
   ]
  },
  {
   "cell_type": "code",
   "execution_count": 44,
   "id": "a3059e0b",
   "metadata": {},
   "outputs": [
    {
     "name": "stdout",
     "output_type": "stream",
     "text": [
      "p_value: 0.0739207603418346\n",
      "Не получилось отвергнуть нулевую гипотезу, нет оснований считать доли разными\n"
     ]
    }
   ],
   "source": [
    "count = np.array([count_a_true, count_b_true])\n",
    "nobs = np.array([count_a, count_b])\n",
    "\n",
    "alpha = .05\n",
    "stat, pvalue = proportions_ztest(count, nobs)\n",
    "\n",
    "print('p_value: {}'.format(pvalue))\n",
    "\n",
    "if pvalue < alpha:\n",
    "    print('Отвергаем нулевую гипотезу')\n",
    "else:\n",
    "    print('Не получилось отвергнуть нулевую гипотезу, нет оснований считать доли разными')"
   ]
  },
  {
   "cell_type": "code",
   "execution_count": 46,
   "id": "97c23676",
   "metadata": {},
   "outputs": [
    {
     "name": "stdout",
     "output_type": "stream",
     "text": [
      "p_value: 0.0015917731773993442\n",
      "Отвергаем нулевую гипотезу\n"
     ]
    }
   ],
   "source": [
    "count = np.array([count_a_true7, count_b_true7])\n",
    "nobs = np.array([count_a, count_b])\n",
    "alpha = .05\n",
    "stat, pvalue = proportions_ztest(count, nobs)\n",
    "\n",
    "print('p_value: {}'.format(pvalue))\n",
    "\n",
    "if pvalue < alpha:\n",
    "    print('Отвергаем нулевую гипотезу')\n",
    "else:\n",
    "    print('Не получилось отвергнуть нулевую гипотезу, нет оснований считать доли разными')"
   ]
  },
  {
   "cell_type": "code",
   "execution_count": 57,
   "id": "07ed1f24",
   "metadata": {},
   "outputs": [],
   "source": [
    "perc_1a = round((count_a_true / count_a * 100), 2)\n",
    "perc_7a = round((count_a_true7 / count_a *100), 2)\n",
    "\n",
    "perc_1b = round((count_b_true / count_b * 100), 2)\n",
    "perc_7b = round((count_b_true7 / count_b * 100), 2)"
   ]
  },
  {
   "cell_type": "code",
   "execution_count": 58,
   "id": "ca3794e0",
   "metadata": {},
   "outputs": [
    {
     "name": "stdout",
     "output_type": "stream",
     "text": [
      "44.82 19.02\n",
      "44.23 18.2\n"
     ]
    }
   ],
   "source": [
    "print(perc_1a, perc_7a)\n",
    "\n",
    "print(perc_1b, perc_7b)"
   ]
  },
  {
   "cell_type": "markdown",
   "id": "e882275a",
   "metadata": {},
   "source": [
    "## Вывод \n",
    "\n",
    "В результате анализа проведенного А/Б теста мы выяснили, что: \n",
    "- нет статистически значимых отличий в количестве пройденных раундов между игроками подконтрольных групп;\n",
    "- нет статистически значимой разницы между уровнем удержания подконтрольных групп на первый день;\n",
    "- есть статистически значимая разница между уровнем удержания подконтрольных групп на седьмой день.\n",
    "\n",
    "Учитывая вышесказанное и факт того, что на седьмой день показатели удержания в группе А выше группы В, считаю нецелесообразным перемещение врат (gate) на сороковой уровень вместо тридцатого. "
   ]
  }
 ],
 "metadata": {
  "kernelspec": {
   "display_name": "Python 3 (ipykernel)",
   "language": "python",
   "name": "python3"
  },
  "language_info": {
   "codemirror_mode": {
    "name": "ipython",
    "version": 3
   },
   "file_extension": ".py",
   "mimetype": "text/x-python",
   "name": "python",
   "nbconvert_exporter": "python",
   "pygments_lexer": "ipython3",
   "version": "3.9.13"
  }
 },
 "nbformat": 4,
 "nbformat_minor": 5
}
